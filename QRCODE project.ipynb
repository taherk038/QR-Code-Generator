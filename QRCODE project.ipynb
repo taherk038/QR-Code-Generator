{
 "cells": [
  {
   "cell_type": "code",
   "execution_count": 3,
   "id": "6817c018",
   "metadata": {},
   "outputs": [],
   "source": [
    "import qrcode\n",
    "from PIL import Image\n",
    "qr=qrcode.QRCode(version=1,error_correction=qrcode.constants.ERROR_CORRECT_H,box_size=20,border=4,)\n",
    "qr.add_data(\"Welcome to my Profile\")\n",
    "qr.make(fit=True)\n",
    "img=qr.make_image(fill_color=\"skyblue\",back_color=\"purple\")\n",
    "img.save(\"git.png\")"
   ]
  },
  {
   "cell_type": "code",
   "execution_count": null,
   "id": "adf82947",
   "metadata": {},
   "outputs": [],
   "source": []
  }
 ],
 "metadata": {
  "kernelspec": {
   "display_name": "Python 3 (ipykernel)",
   "language": "python",
   "name": "python3"
  },
  "language_info": {
   "codemirror_mode": {
    "name": "ipython",
    "version": 3
   },
   "file_extension": ".py",
   "mimetype": "text/x-python",
   "name": "python",
   "nbconvert_exporter": "python",
   "pygments_lexer": "ipython3",
   "version": "3.11.5"
  }
 },
 "nbformat": 4,
 "nbformat_minor": 5
}
